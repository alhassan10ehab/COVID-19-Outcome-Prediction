{
  "nbformat": 4,
  "nbformat_minor": 0,
  "metadata": {
    "colab": {
      "provenance": []
    },
    "kernelspec": {
      "name": "python3",
      "display_name": "Python 3"
    },
    "language_info": {
      "name": "python"
    }
  },
  "cells": [
    {
      "cell_type": "code",
      "execution_count": 1,
      "metadata": {
        "id": "QQSWUj4FSpLl"
      },
      "outputs": [],
      "source": [
        "#import libraries\n",
        "import pandas as pd\n",
        "import numpy as np\n",
        "import matplotlib.pyplot as plt\n",
        "from sklearn.model_selection import train_test_split\n",
        "from sklearn.neighbors import KNeighborsClassifier\n",
        "from sklearn.preprocessing import StandardScaler\n",
        "from imblearn.over_sampling import SMOTE\n",
        "from sklearn import metrics\n",
        "from sklearn.metrics import classification_report,confusion_matrix\n",
        "%matplotlib inline"
      ]
    },
    {
      "cell_type": "code",
      "source": [
        "#load the data\n",
        "df = pd.read_csv('/content/data.csv')"
      ],
      "metadata": {
        "id": "gSGcZfUpS8L-"
      },
      "execution_count": 2,
      "outputs": []
    },
    {
      "cell_type": "code",
      "source": [
        "df.head()"
      ],
      "metadata": {
        "colab": {
          "base_uri": "https://localhost:8080/",
          "height": 206
        },
        "id": "1IUTP-2hTAEv",
        "outputId": "31fb9702-5d51-43f0-9b12-5590f650e283"
      },
      "execution_count": 3,
      "outputs": [
        {
          "output_type": "execute_result",
          "data": {
            "text/plain": [
              "   Unnamed: 0  location  country  gender   age  vis_wuhan  from_wuhan  \\\n",
              "0           0       104        8       1  66.0          1           0   \n",
              "1           1       101        8       0  56.0          0           1   \n",
              "2           2       137        8       1  46.0          0           1   \n",
              "3           3       116        8       0  60.0          1           0   \n",
              "4           4       116        8       1  58.0          0           0   \n",
              "\n",
              "   symptom1  symptom2  symptom3  symptom4  symptom5  symptom6  diff_sym_hos  \\\n",
              "0        14        31        19        12         3         1             8   \n",
              "1        14        31        19        12         3         1             0   \n",
              "2        14        31        19        12         3         1            13   \n",
              "3        14        31        19        12         3         1             0   \n",
              "4        14        31        19        12         3         1             0   \n",
              "\n",
              "   result  \n",
              "0       1  \n",
              "1       0  \n",
              "2       0  \n",
              "3       0  \n",
              "4       0  "
            ],
            "text/html": [
              "\n",
              "  <div id=\"df-ec717486-c27c-4115-a1a4-6a63404e52f2\">\n",
              "    <div class=\"colab-df-container\">\n",
              "      <div>\n",
              "<style scoped>\n",
              "    .dataframe tbody tr th:only-of-type {\n",
              "        vertical-align: middle;\n",
              "    }\n",
              "\n",
              "    .dataframe tbody tr th {\n",
              "        vertical-align: top;\n",
              "    }\n",
              "\n",
              "    .dataframe thead th {\n",
              "        text-align: right;\n",
              "    }\n",
              "</style>\n",
              "<table border=\"1\" class=\"dataframe\">\n",
              "  <thead>\n",
              "    <tr style=\"text-align: right;\">\n",
              "      <th></th>\n",
              "      <th>Unnamed: 0</th>\n",
              "      <th>location</th>\n",
              "      <th>country</th>\n",
              "      <th>gender</th>\n",
              "      <th>age</th>\n",
              "      <th>vis_wuhan</th>\n",
              "      <th>from_wuhan</th>\n",
              "      <th>symptom1</th>\n",
              "      <th>symptom2</th>\n",
              "      <th>symptom3</th>\n",
              "      <th>symptom4</th>\n",
              "      <th>symptom5</th>\n",
              "      <th>symptom6</th>\n",
              "      <th>diff_sym_hos</th>\n",
              "      <th>result</th>\n",
              "    </tr>\n",
              "  </thead>\n",
              "  <tbody>\n",
              "    <tr>\n",
              "      <th>0</th>\n",
              "      <td>0</td>\n",
              "      <td>104</td>\n",
              "      <td>8</td>\n",
              "      <td>1</td>\n",
              "      <td>66.0</td>\n",
              "      <td>1</td>\n",
              "      <td>0</td>\n",
              "      <td>14</td>\n",
              "      <td>31</td>\n",
              "      <td>19</td>\n",
              "      <td>12</td>\n",
              "      <td>3</td>\n",
              "      <td>1</td>\n",
              "      <td>8</td>\n",
              "      <td>1</td>\n",
              "    </tr>\n",
              "    <tr>\n",
              "      <th>1</th>\n",
              "      <td>1</td>\n",
              "      <td>101</td>\n",
              "      <td>8</td>\n",
              "      <td>0</td>\n",
              "      <td>56.0</td>\n",
              "      <td>0</td>\n",
              "      <td>1</td>\n",
              "      <td>14</td>\n",
              "      <td>31</td>\n",
              "      <td>19</td>\n",
              "      <td>12</td>\n",
              "      <td>3</td>\n",
              "      <td>1</td>\n",
              "      <td>0</td>\n",
              "      <td>0</td>\n",
              "    </tr>\n",
              "    <tr>\n",
              "      <th>2</th>\n",
              "      <td>2</td>\n",
              "      <td>137</td>\n",
              "      <td>8</td>\n",
              "      <td>1</td>\n",
              "      <td>46.0</td>\n",
              "      <td>0</td>\n",
              "      <td>1</td>\n",
              "      <td>14</td>\n",
              "      <td>31</td>\n",
              "      <td>19</td>\n",
              "      <td>12</td>\n",
              "      <td>3</td>\n",
              "      <td>1</td>\n",
              "      <td>13</td>\n",
              "      <td>0</td>\n",
              "    </tr>\n",
              "    <tr>\n",
              "      <th>3</th>\n",
              "      <td>3</td>\n",
              "      <td>116</td>\n",
              "      <td>8</td>\n",
              "      <td>0</td>\n",
              "      <td>60.0</td>\n",
              "      <td>1</td>\n",
              "      <td>0</td>\n",
              "      <td>14</td>\n",
              "      <td>31</td>\n",
              "      <td>19</td>\n",
              "      <td>12</td>\n",
              "      <td>3</td>\n",
              "      <td>1</td>\n",
              "      <td>0</td>\n",
              "      <td>0</td>\n",
              "    </tr>\n",
              "    <tr>\n",
              "      <th>4</th>\n",
              "      <td>4</td>\n",
              "      <td>116</td>\n",
              "      <td>8</td>\n",
              "      <td>1</td>\n",
              "      <td>58.0</td>\n",
              "      <td>0</td>\n",
              "      <td>0</td>\n",
              "      <td>14</td>\n",
              "      <td>31</td>\n",
              "      <td>19</td>\n",
              "      <td>12</td>\n",
              "      <td>3</td>\n",
              "      <td>1</td>\n",
              "      <td>0</td>\n",
              "      <td>0</td>\n",
              "    </tr>\n",
              "  </tbody>\n",
              "</table>\n",
              "</div>\n",
              "      <button class=\"colab-df-convert\" onclick=\"convertToInteractive('df-ec717486-c27c-4115-a1a4-6a63404e52f2')\"\n",
              "              title=\"Convert this dataframe to an interactive table.\"\n",
              "              style=\"display:none;\">\n",
              "        \n",
              "  <svg xmlns=\"http://www.w3.org/2000/svg\" height=\"24px\"viewBox=\"0 0 24 24\"\n",
              "       width=\"24px\">\n",
              "    <path d=\"M0 0h24v24H0V0z\" fill=\"none\"/>\n",
              "    <path d=\"M18.56 5.44l.94 2.06.94-2.06 2.06-.94-2.06-.94-.94-2.06-.94 2.06-2.06.94zm-11 1L8.5 8.5l.94-2.06 2.06-.94-2.06-.94L8.5 2.5l-.94 2.06-2.06.94zm10 10l.94 2.06.94-2.06 2.06-.94-2.06-.94-.94-2.06-.94 2.06-2.06.94z\"/><path d=\"M17.41 7.96l-1.37-1.37c-.4-.4-.92-.59-1.43-.59-.52 0-1.04.2-1.43.59L10.3 9.45l-7.72 7.72c-.78.78-.78 2.05 0 2.83L4 21.41c.39.39.9.59 1.41.59.51 0 1.02-.2 1.41-.59l7.78-7.78 2.81-2.81c.8-.78.8-2.07 0-2.86zM5.41 20L4 18.59l7.72-7.72 1.47 1.35L5.41 20z\"/>\n",
              "  </svg>\n",
              "      </button>\n",
              "      \n",
              "  <style>\n",
              "    .colab-df-container {\n",
              "      display:flex;\n",
              "      flex-wrap:wrap;\n",
              "      gap: 12px;\n",
              "    }\n",
              "\n",
              "    .colab-df-convert {\n",
              "      background-color: #E8F0FE;\n",
              "      border: none;\n",
              "      border-radius: 50%;\n",
              "      cursor: pointer;\n",
              "      display: none;\n",
              "      fill: #1967D2;\n",
              "      height: 32px;\n",
              "      padding: 0 0 0 0;\n",
              "      width: 32px;\n",
              "    }\n",
              "\n",
              "    .colab-df-convert:hover {\n",
              "      background-color: #E2EBFA;\n",
              "      box-shadow: 0px 1px 2px rgba(60, 64, 67, 0.3), 0px 1px 3px 1px rgba(60, 64, 67, 0.15);\n",
              "      fill: #174EA6;\n",
              "    }\n",
              "\n",
              "    [theme=dark] .colab-df-convert {\n",
              "      background-color: #3B4455;\n",
              "      fill: #D2E3FC;\n",
              "    }\n",
              "\n",
              "    [theme=dark] .colab-df-convert:hover {\n",
              "      background-color: #434B5C;\n",
              "      box-shadow: 0px 1px 3px 1px rgba(0, 0, 0, 0.15);\n",
              "      filter: drop-shadow(0px 1px 2px rgba(0, 0, 0, 0.3));\n",
              "      fill: #FFFFFF;\n",
              "    }\n",
              "  </style>\n",
              "\n",
              "      <script>\n",
              "        const buttonEl =\n",
              "          document.querySelector('#df-ec717486-c27c-4115-a1a4-6a63404e52f2 button.colab-df-convert');\n",
              "        buttonEl.style.display =\n",
              "          google.colab.kernel.accessAllowed ? 'block' : 'none';\n",
              "\n",
              "        async function convertToInteractive(key) {\n",
              "          const element = document.querySelector('#df-ec717486-c27c-4115-a1a4-6a63404e52f2');\n",
              "          const dataTable =\n",
              "            await google.colab.kernel.invokeFunction('convertToInteractive',\n",
              "                                                     [key], {});\n",
              "          if (!dataTable) return;\n",
              "\n",
              "          const docLinkHtml = 'Like what you see? Visit the ' +\n",
              "            '<a target=\"_blank\" href=https://colab.research.google.com/notebooks/data_table.ipynb>data table notebook</a>'\n",
              "            + ' to learn more about interactive tables.';\n",
              "          element.innerHTML = '';\n",
              "          dataTable['output_type'] = 'display_data';\n",
              "          await google.colab.output.renderOutput(dataTable, element);\n",
              "          const docLink = document.createElement('div');\n",
              "          docLink.innerHTML = docLinkHtml;\n",
              "          element.appendChild(docLink);\n",
              "        }\n",
              "      </script>\n",
              "    </div>\n",
              "  </div>\n",
              "  "
            ]
          },
          "metadata": {},
          "execution_count": 3
        }
      ]
    },
    {
      "cell_type": "code",
      "source": [
        "#scaling the features values\n",
        "scaler = StandardScaler()\n",
        "scaler.fit(df.drop('result',axis=1))\n",
        "scaled_feat = scaler.transform(df.drop('result',axis=1))\n",
        "scaled_df = pd.DataFrame(scaled_feat,columns = df.columns[:-1])\n",
        "scaled_df.head()"
      ],
      "metadata": {
        "colab": {
          "base_uri": "https://localhost:8080/",
          "height": 206
        },
        "id": "or1N9AHqTOsx",
        "outputId": "3f156b45-f45e-4c18-a475-572fb60a70de"
      },
      "execution_count": 4,
      "outputs": [
        {
          "output_type": "execute_result",
          "data": {
            "text/plain": [
              "   Unnamed: 0  location  country    gender       age  vis_wuhan  from_wuhan  \\\n",
              "0   -1.730045  0.698221 -1.15245  0.207592  1.101492   2.120570   -0.347533   \n",
              "1   -1.726031  0.621646 -1.15245 -1.170499  0.437943  -0.471571    2.877424   \n",
              "2   -1.722017  1.540540 -1.15245  0.207592 -0.225607  -0.471571    2.877424   \n",
              "3   -1.718003  1.004519 -1.15245 -1.170499  0.703363   2.120570   -0.347533   \n",
              "4   -1.713989  1.004519 -1.15245  0.207592  0.570653  -0.471571   -0.347533   \n",
              "\n",
              "   symptom1  symptom2  symptom3  symptom4  symptom5  symptom6  diff_sym_hos  \n",
              "0  0.465755  0.401355  0.244914  0.135161  0.054668   0.03406      2.971339  \n",
              "1  0.465755  0.401355  0.244914  0.135161  0.054668   0.03406     -0.422230  \n",
              "2  0.465755  0.401355  0.244914  0.135161  0.054668   0.03406      5.092319  \n",
              "3  0.465755  0.401355  0.244914  0.135161  0.054668   0.03406     -0.422230  \n",
              "4  0.465755  0.401355  0.244914  0.135161  0.054668   0.03406     -0.422230  "
            ],
            "text/html": [
              "\n",
              "  <div id=\"df-83d4a2ef-8f0d-4747-9558-e4e080bba480\">\n",
              "    <div class=\"colab-df-container\">\n",
              "      <div>\n",
              "<style scoped>\n",
              "    .dataframe tbody tr th:only-of-type {\n",
              "        vertical-align: middle;\n",
              "    }\n",
              "\n",
              "    .dataframe tbody tr th {\n",
              "        vertical-align: top;\n",
              "    }\n",
              "\n",
              "    .dataframe thead th {\n",
              "        text-align: right;\n",
              "    }\n",
              "</style>\n",
              "<table border=\"1\" class=\"dataframe\">\n",
              "  <thead>\n",
              "    <tr style=\"text-align: right;\">\n",
              "      <th></th>\n",
              "      <th>Unnamed: 0</th>\n",
              "      <th>location</th>\n",
              "      <th>country</th>\n",
              "      <th>gender</th>\n",
              "      <th>age</th>\n",
              "      <th>vis_wuhan</th>\n",
              "      <th>from_wuhan</th>\n",
              "      <th>symptom1</th>\n",
              "      <th>symptom2</th>\n",
              "      <th>symptom3</th>\n",
              "      <th>symptom4</th>\n",
              "      <th>symptom5</th>\n",
              "      <th>symptom6</th>\n",
              "      <th>diff_sym_hos</th>\n",
              "    </tr>\n",
              "  </thead>\n",
              "  <tbody>\n",
              "    <tr>\n",
              "      <th>0</th>\n",
              "      <td>-1.730045</td>\n",
              "      <td>0.698221</td>\n",
              "      <td>-1.15245</td>\n",
              "      <td>0.207592</td>\n",
              "      <td>1.101492</td>\n",
              "      <td>2.120570</td>\n",
              "      <td>-0.347533</td>\n",
              "      <td>0.465755</td>\n",
              "      <td>0.401355</td>\n",
              "      <td>0.244914</td>\n",
              "      <td>0.135161</td>\n",
              "      <td>0.054668</td>\n",
              "      <td>0.03406</td>\n",
              "      <td>2.971339</td>\n",
              "    </tr>\n",
              "    <tr>\n",
              "      <th>1</th>\n",
              "      <td>-1.726031</td>\n",
              "      <td>0.621646</td>\n",
              "      <td>-1.15245</td>\n",
              "      <td>-1.170499</td>\n",
              "      <td>0.437943</td>\n",
              "      <td>-0.471571</td>\n",
              "      <td>2.877424</td>\n",
              "      <td>0.465755</td>\n",
              "      <td>0.401355</td>\n",
              "      <td>0.244914</td>\n",
              "      <td>0.135161</td>\n",
              "      <td>0.054668</td>\n",
              "      <td>0.03406</td>\n",
              "      <td>-0.422230</td>\n",
              "    </tr>\n",
              "    <tr>\n",
              "      <th>2</th>\n",
              "      <td>-1.722017</td>\n",
              "      <td>1.540540</td>\n",
              "      <td>-1.15245</td>\n",
              "      <td>0.207592</td>\n",
              "      <td>-0.225607</td>\n",
              "      <td>-0.471571</td>\n",
              "      <td>2.877424</td>\n",
              "      <td>0.465755</td>\n",
              "      <td>0.401355</td>\n",
              "      <td>0.244914</td>\n",
              "      <td>0.135161</td>\n",
              "      <td>0.054668</td>\n",
              "      <td>0.03406</td>\n",
              "      <td>5.092319</td>\n",
              "    </tr>\n",
              "    <tr>\n",
              "      <th>3</th>\n",
              "      <td>-1.718003</td>\n",
              "      <td>1.004519</td>\n",
              "      <td>-1.15245</td>\n",
              "      <td>-1.170499</td>\n",
              "      <td>0.703363</td>\n",
              "      <td>2.120570</td>\n",
              "      <td>-0.347533</td>\n",
              "      <td>0.465755</td>\n",
              "      <td>0.401355</td>\n",
              "      <td>0.244914</td>\n",
              "      <td>0.135161</td>\n",
              "      <td>0.054668</td>\n",
              "      <td>0.03406</td>\n",
              "      <td>-0.422230</td>\n",
              "    </tr>\n",
              "    <tr>\n",
              "      <th>4</th>\n",
              "      <td>-1.713989</td>\n",
              "      <td>1.004519</td>\n",
              "      <td>-1.15245</td>\n",
              "      <td>0.207592</td>\n",
              "      <td>0.570653</td>\n",
              "      <td>-0.471571</td>\n",
              "      <td>-0.347533</td>\n",
              "      <td>0.465755</td>\n",
              "      <td>0.401355</td>\n",
              "      <td>0.244914</td>\n",
              "      <td>0.135161</td>\n",
              "      <td>0.054668</td>\n",
              "      <td>0.03406</td>\n",
              "      <td>-0.422230</td>\n",
              "    </tr>\n",
              "  </tbody>\n",
              "</table>\n",
              "</div>\n",
              "      <button class=\"colab-df-convert\" onclick=\"convertToInteractive('df-83d4a2ef-8f0d-4747-9558-e4e080bba480')\"\n",
              "              title=\"Convert this dataframe to an interactive table.\"\n",
              "              style=\"display:none;\">\n",
              "        \n",
              "  <svg xmlns=\"http://www.w3.org/2000/svg\" height=\"24px\"viewBox=\"0 0 24 24\"\n",
              "       width=\"24px\">\n",
              "    <path d=\"M0 0h24v24H0V0z\" fill=\"none\"/>\n",
              "    <path d=\"M18.56 5.44l.94 2.06.94-2.06 2.06-.94-2.06-.94-.94-2.06-.94 2.06-2.06.94zm-11 1L8.5 8.5l.94-2.06 2.06-.94-2.06-.94L8.5 2.5l-.94 2.06-2.06.94zm10 10l.94 2.06.94-2.06 2.06-.94-2.06-.94-.94-2.06-.94 2.06-2.06.94z\"/><path d=\"M17.41 7.96l-1.37-1.37c-.4-.4-.92-.59-1.43-.59-.52 0-1.04.2-1.43.59L10.3 9.45l-7.72 7.72c-.78.78-.78 2.05 0 2.83L4 21.41c.39.39.9.59 1.41.59.51 0 1.02-.2 1.41-.59l7.78-7.78 2.81-2.81c.8-.78.8-2.07 0-2.86zM5.41 20L4 18.59l7.72-7.72 1.47 1.35L5.41 20z\"/>\n",
              "  </svg>\n",
              "      </button>\n",
              "      \n",
              "  <style>\n",
              "    .colab-df-container {\n",
              "      display:flex;\n",
              "      flex-wrap:wrap;\n",
              "      gap: 12px;\n",
              "    }\n",
              "\n",
              "    .colab-df-convert {\n",
              "      background-color: #E8F0FE;\n",
              "      border: none;\n",
              "      border-radius: 50%;\n",
              "      cursor: pointer;\n",
              "      display: none;\n",
              "      fill: #1967D2;\n",
              "      height: 32px;\n",
              "      padding: 0 0 0 0;\n",
              "      width: 32px;\n",
              "    }\n",
              "\n",
              "    .colab-df-convert:hover {\n",
              "      background-color: #E2EBFA;\n",
              "      box-shadow: 0px 1px 2px rgba(60, 64, 67, 0.3), 0px 1px 3px 1px rgba(60, 64, 67, 0.15);\n",
              "      fill: #174EA6;\n",
              "    }\n",
              "\n",
              "    [theme=dark] .colab-df-convert {\n",
              "      background-color: #3B4455;\n",
              "      fill: #D2E3FC;\n",
              "    }\n",
              "\n",
              "    [theme=dark] .colab-df-convert:hover {\n",
              "      background-color: #434B5C;\n",
              "      box-shadow: 0px 1px 3px 1px rgba(0, 0, 0, 0.15);\n",
              "      filter: drop-shadow(0px 1px 2px rgba(0, 0, 0, 0.3));\n",
              "      fill: #FFFFFF;\n",
              "    }\n",
              "  </style>\n",
              "\n",
              "      <script>\n",
              "        const buttonEl =\n",
              "          document.querySelector('#df-83d4a2ef-8f0d-4747-9558-e4e080bba480 button.colab-df-convert');\n",
              "        buttonEl.style.display =\n",
              "          google.colab.kernel.accessAllowed ? 'block' : 'none';\n",
              "\n",
              "        async function convertToInteractive(key) {\n",
              "          const element = document.querySelector('#df-83d4a2ef-8f0d-4747-9558-e4e080bba480');\n",
              "          const dataTable =\n",
              "            await google.colab.kernel.invokeFunction('convertToInteractive',\n",
              "                                                     [key], {});\n",
              "          if (!dataTable) return;\n",
              "\n",
              "          const docLinkHtml = 'Like what you see? Visit the ' +\n",
              "            '<a target=\"_blank\" href=https://colab.research.google.com/notebooks/data_table.ipynb>data table notebook</a>'\n",
              "            + ' to learn more about interactive tables.';\n",
              "          element.innerHTML = '';\n",
              "          dataTable['output_type'] = 'display_data';\n",
              "          await google.colab.output.renderOutput(dataTable, element);\n",
              "          const docLink = document.createElement('div');\n",
              "          docLink.innerHTML = docLinkHtml;\n",
              "          element.appendChild(docLink);\n",
              "        }\n",
              "      </script>\n",
              "    </div>\n",
              "  </div>\n",
              "  "
            ]
          },
          "metadata": {},
          "execution_count": 4
        }
      ]
    },
    {
      "cell_type": "code",
      "source": [
        "#prform up samplin for class 1 to make a balance between the two classes\n",
        "sm = SMOTE(sampling_strategy='minority')\n",
        "oversampled_X, oversampled_Y = sm.fit_resample(scaled_df, df['result'])\n",
        "df_new = pd.concat([pd.DataFrame(oversampled_Y), pd.DataFrame(oversampled_X)], axis=1)"
      ],
      "metadata": {
        "id": "96ZwdKxMOOPw"
      },
      "execution_count": 5,
      "outputs": []
    },
    {
      "cell_type": "code",
      "source": [
        "#split the data into train, validation, and test\n",
        "x_train, x_val_test, y_train, y_val_test = train_test_split(oversampled_X , df_new['result'], test_size=0.2)\n",
        "x_val, x_test, y_val, y_test = train_test_split(x_val_test , y_val_test , test_size=0.5)"
      ],
      "metadata": {
        "id": "LpB0wg1TVM_w"
      },
      "execution_count": 6,
      "outputs": []
    },
    {
      "cell_type": "code",
      "source": [
        "#train the model\n",
        "model = KNeighborsClassifier(n_neighbors=5)\n",
        "model.fit(x_train,y_train)"
      ],
      "metadata": {
        "colab": {
          "base_uri": "https://localhost:8080/"
        },
        "id": "hI3DuCuhYvSu",
        "outputId": "64601186-2e99-4701-f939-11a7355fbb3c"
      },
      "execution_count": 7,
      "outputs": [
        {
          "output_type": "execute_result",
          "data": {
            "text/plain": [
              "KNeighborsClassifier()"
            ]
          },
          "metadata": {},
          "execution_count": 7
        }
      ]
    },
    {
      "cell_type": "code",
      "source": [
        "#perform the prediction on the train data and print the confusion matrix\n",
        "y_predict = model.predict(x_train)\n",
        "conf_matrix = confusion_matrix(y_train,y_predict)\n",
        "print(conf_matrix)"
      ],
      "metadata": {
        "colab": {
          "base_uri": "https://localhost:8080/"
        },
        "id": "i4_ijTwBdoFr",
        "outputId": "fddb4e47-0de6-49a9-e65a-1b8df9cdaae5"
      },
      "execution_count": 8,
      "outputs": [
        {
          "output_type": "stream",
          "name": "stdout",
          "text": [
            "[[557  50]\n",
            " [  3 598]]\n"
          ]
        }
      ]
    },
    {
      "cell_type": "code",
      "source": [
        "#print the metrics for train step\n",
        "report = print(classification_report(y_train,y_predict))\n",
        "print(report)"
      ],
      "metadata": {
        "colab": {
          "base_uri": "https://localhost:8080/"
        },
        "id": "v9Mle28fdxO7",
        "outputId": "821d5728-d624-45a7-c06d-0dceec88064d"
      },
      "execution_count": 9,
      "outputs": [
        {
          "output_type": "stream",
          "name": "stdout",
          "text": [
            "              precision    recall  f1-score   support\n",
            "\n",
            "           0       0.99      0.92      0.95       607\n",
            "           1       0.92      1.00      0.96       601\n",
            "\n",
            "    accuracy                           0.96      1208\n",
            "   macro avg       0.96      0.96      0.96      1208\n",
            "weighted avg       0.96      0.96      0.96      1208\n",
            "\n",
            "None\n"
          ]
        }
      ]
    },
    {
      "cell_type": "code",
      "source": [
        "#try to find the best k value which achieve the minimum error rate on validation data\n",
        "error_rate = []\n",
        "\n",
        "for i in range(1,15):\n",
        "    \n",
        "    model = KNeighborsClassifier(n_neighbors=i)\n",
        "    model.fit(x_train,y_train)\n",
        "    prediction = model.predict(x_val)\n",
        "    error_rate.append(np.mean(prediction != y_val))"
      ],
      "metadata": {
        "id": "Xz8OWS2lejD2"
      },
      "execution_count": null,
      "outputs": []
    },
    {
      "cell_type": "code",
      "source": [
        "#plot the error rate with differnt values of k\n",
        "plt.figure(figsize=(10,5))\n",
        "plt.plot(error_rate)\n",
        "plt.xlabel('value of K')\n",
        "plt.ylabel('Error_rate')"
      ],
      "metadata": {
        "colab": {
          "base_uri": "https://localhost:8080/",
          "height": 351
        },
        "id": "FYjhs9o0f72R",
        "outputId": "40a0c55f-6245-43af-803d-d3a2f161d68e"
      },
      "execution_count": null,
      "outputs": [
        {
          "output_type": "execute_result",
          "data": {
            "text/plain": [
              "Text(0, 0.5, 'Error_rate')"
            ]
          },
          "metadata": {},
          "execution_count": 708
        },
        {
          "output_type": "display_data",
          "data": {
            "text/plain": [
              "<Figure size 720x360 with 1 Axes>"
            ],
            "image/png": "[encoded data removed]"
          },
          "metadata": {
            "needs_background": "light"
          }
        }
      ]
    },
    {
      "cell_type": "code",
      "source": [
        "#it was observed that the best value for k is 5\n",
        "model = KNeighborsClassifier(n_neighbors=3)\n",
        "\n",
        "model.fit(x_train,y_train)\n",
        "prediction = model.predict(x_test)"
      ],
      "metadata": {
        "id": "-glFYrbWgX01"
      },
      "execution_count": null,
      "outputs": []
    },
    {
      "cell_type": "code",
      "source": [
        "#print the confusion matrix for the model with k=5 in test process\n",
        "conf_matrix = confusion_matrix(y_test,prediction)\n",
        "print(conf_matrix)"
      ],
      "metadata": {
        "colab": {
          "base_uri": "https://localhost:8080/"
        },
        "id": "-vFHakf0iu7a",
        "outputId": "f942da63-1ae6-4e47-a3a8-eb52b74dacb7"
      },
      "execution_count": null,
      "outputs": [
        {
          "output_type": "stream",
          "name": "stdout",
          "text": [
            "[[63 13]\n",
            " [ 1 74]]\n"
          ]
        }
      ]
    },
    {
      "cell_type": "code",
      "source": [
        "#print the metrics for the model in the process\n",
        "report = print(classification_report(y_test,prediction))\n",
        "print(report)"
      ],
      "metadata": {
        "colab": {
          "base_uri": "https://localhost:8080/"
        },
        "id": "d5p7PpVaiyLf",
        "outputId": "b66a4a77-631a-44f1-b81c-70f582b95cb6"
      },
      "execution_count": null,
      "outputs": [
        {
          "output_type": "stream",
          "name": "stdout",
          "text": [
            "              precision    recall  f1-score   support\n",
            "\n",
            "           0       0.98      0.83      0.90        76\n",
            "           1       0.85      0.99      0.91        75\n",
            "\n",
            "    accuracy                           0.91       151\n",
            "   macro avg       0.92      0.91      0.91       151\n",
            "weighted avg       0.92      0.91      0.91       151\n",
            "\n",
            "None\n"
          ]
        }
      ]
    },
    {
      "cell_type": "code",
      "source": [
        "#plot ROC curve\n",
        "plt.figure(figsize=(8,5))\n",
        "metrics.plot_roc_curve(model, x_test, y_test)\n",
        "plt.show()"
      ],
      "metadata": {
        "colab": {
          "base_uri": "https://localhost:8080/",
          "height": 351
        },
        "id": "F4fNdQ0njBU3",
        "outputId": "31363f45-7097-4b6a-efe8-af2c370208de"
      },
      "execution_count": null,
      "outputs": [
        {
          "output_type": "stream",
          "name": "stderr",
          "text": [
            "/usr/local/lib/python3.8/dist-packages/sklearn/utils/deprecation.py:87: FutureWarning: Function plot_roc_curve is deprecated; Function :func:`plot_roc_curve` is deprecated in 1.0 and will be removed in 1.2. Use one of the class methods: :meth:`sklearn.metric.RocCurveDisplay.from_predictions` or :meth:`sklearn.metric.RocCurveDisplay.from_estimator`.\n",
            "  warnings.warn(msg, category=FutureWarning)\n"
          ]
        },
        {
          "output_type": "display_data",
          "data": {
            "text/plain": [
              "<Figure size 576x360 with 0 Axes>"
            ]
          },
          "metadata": {}
        },
        {
          "output_type": "display_data",
          "data": {
            "text/plain": [
              "<Figure size 432x288 with 1 Axes>"
            ],
            "image/png": "[encoded data removed]"
          },
          "metadata": {
            "needs_background": "light"
          }
        }
      ]
    },
    {
      "cell_type": "code",
      "source": [],
      "metadata": {
        "id": "fJc6IdnAyVB1"
      },
      "execution_count": null,
      "outputs": []
    }
  ]
}